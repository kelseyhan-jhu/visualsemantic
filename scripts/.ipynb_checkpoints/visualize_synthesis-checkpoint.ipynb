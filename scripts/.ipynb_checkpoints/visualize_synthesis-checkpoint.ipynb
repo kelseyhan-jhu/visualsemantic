{
 "cells": [
  {
   "cell_type": "code",
   "execution_count": null,
   "metadata": {},
   "outputs": [],
   "source": [
    "from __future__ import print_function\n",
    "\n",
    "import torch\n",
    "import torch.nn as nn\n",
    "import torch.nn.functional as F\n",
    "import torch.optim as optim\n",
    "\n",
    "from PIL import Image\n",
    "import matplotlib.pyplot as plt\n",
    "\n",
    "import numpy as np\n",
    "from src.utils import listdir\n",
    "from src.neural_transfer import image_loader, imshow\n",
    "\n",
    "device = torch.device(\"cuda\" if torch.cuda.is_available() else \"cpu\")\n",
    "imsize = 256 if torch.cuda.is_available() else 128  # use small size if no gpu"
   ]
  },
  {
   "cell_type": "code",
   "execution_count": null,
   "metadata": {},
   "outputs": [],
   "source": [
    "# Load input images\n",
    "conditions = [\"face\", \"scene\", \"bodypart\", \"object\"]\n",
    "for condition in conditions:\n",
    "    path = \"../stimuli/\" + condition\n",
    "    images = listdir(path)\n",
    "    for im in images:\n",
    "        img = image_loader(im, imsize, device)\n",
    "        plt.figure()\n",
    "        imshow(img, title=im)"
   ]
  },
  {
   "cell_type": "code",
   "execution_count": null,
   "metadata": {},
   "outputs": [],
   "source": [
    "# Load output images\n",
    "checkpoint = torch.load(\"../src/checkpoint.pt\")\n",
    "output_run = checkpoint['run']\n",
    "output_loss = checkpoint['loss']\n",
    "output = checkpoint['input_img']\n",
    "with torch.no_grad():\n",
    "    output.clamp_(0, 1)\n",
    "    \n",
    "output_BGR = output.requires_grad_(False)\n",
    "output = output_BGR[:, (2, 1, 0), :, :]\n",
    "\n",
    "plt.figure()\n",
    "imshow(output, title=\"Output Image\")\n",
    "print(output_run, output_loss)"
   ]
  },
  {
   "cell_type": "code",
   "execution_count": null,
   "metadata": {},
   "outputs": [],
   "source": [
    "img = np.load(\"../results/adversary/face_stim129.2400x2400.jpeg_pool_2_500.npy\")[\n",
    "    0, :, :, :\n",
    "]\n",
    "img = np.swapaxes(img, 0, 1)\n",
    "img = np.swapaxes(img, 1, 2)\n",
    "plt.figure()\n",
    "plt.imshow(img)"
   ]
  },
  {
   "cell_type": "code",
   "execution_count": null,
   "metadata": {},
   "outputs": [],
   "source": [
    "img = np.load(\"../results/adversary/stim129.2400x2400.jpeg_face_pool_2_500.npy\")[\n",
    "    0, :, :, :\n",
    "]\n",
    "img = np.swapaxes(img, 0, 1)\n",
    "img = np.swapaxes(img, 1, 2)\n",
    "plt.figure()\n",
    "plt.imshow(img)"
   ]
  },
  {
   "cell_type": "code",
   "execution_count": null,
   "metadata": {},
   "outputs": [],
   "source": [
    "good_images = [\"almond\", \"aloe\", \"alpaca\", \"apple_tree\", \"face\", \"arm\"]\n",
    "\n",
    "for c in conds:\n",
    "    if c.split(\"/\")[-1] in good_images:\n",
    "        style_img = image_loader(src.utils.listdir(c)[0])\n",
    "\n",
    "        plt.figure()\n",
    "        imshow(style_img, title=\"Style Image\")\n",
    "\n",
    "\n",
    "img = np.load(\"../scripts/almond_pool_5_1000.npy\")[0, :, :, :]\n",
    "img = np.swapaxes(img, 0, 1)\n",
    "img = np.swapaxes(img, 1, 2)\n",
    "plt.figure()\n",
    "plt.imshow(img)\n",
    "\n",
    "img = np.load(\"../scripts/aloe_pool_5_2000.npy\")[0, :, :, :]\n",
    "img = np.swapaxes(img, 0, 1)\n",
    "img = np.swapaxes(img, 1, 2)\n",
    "plt.figure()\n",
    "plt.imshow(img)\n",
    "\n",
    "\n",
    "img = np.load(\"../scripts/alpaca_pool_5_2000.npy\")[0, :, :, :]\n",
    "img = np.swapaxes(img, 0, 1)\n",
    "img = np.swapaxes(img, 1, 2)\n",
    "plt.figure()\n",
    "plt.imshow(img)\n",
    "\n",
    "img = np.load(\"../scripts/apple_tree_pool_5_1000.npy\")[0, :, :, :]\n",
    "img = np.swapaxes(img, 0, 1)\n",
    "img = np.swapaxes(img, 1, 2)\n",
    "plt.figure()\n",
    "plt.imshow(img)\n",
    "\n",
    "img = np.load(\"../scripts/face_pool_5_1000.npy\")[0, :, :, :]\n",
    "img = np.swapaxes(img, 0, 1)\n",
    "img = np.swapaxes(img, 1, 2)\n",
    "plt.figure()\n",
    "plt.imshow(img)\n",
    "\n",
    "\n",
    "img = np.load(\"../scripts/arm_pool_5_1000.npy\")[0, :, :, :]\n",
    "img = np.swapaxes(img, 0, 1)\n",
    "img = np.swapaxes(img, 1, 2)\n",
    "plt.figure()\n",
    "plt.imshow(img)"
   ]
  },
  {
   "cell_type": "code",
   "execution_count": null,
   "metadata": {},
   "outputs": [],
   "source": [
    "# image = loader(Image.open(\"./Images/pebbles.jpg\")).unsqueeze(0)\n",
    "image = loader(Image.open(src.utils.listdir(conds[0])[1])).unsqueeze(0)\n",
    "imgBGR = image[:, (2, 1, 0), :, :]\n",
    "style_img_BGR = imgBGR.to(device, torch.float)\n",
    "style_img_BGR.shape"
   ]
  }
 ],
 "metadata": {
  "kernelspec": {
   "display_name": "visualsemantic",
   "language": "python",
   "name": "visualsemantic"
  },
  "language_info": {
   "codemirror_mode": {
    "name": "ipython",
    "version": 3
   },
   "file_extension": ".py",
   "mimetype": "text/x-python",
   "name": "python",
   "nbconvert_exporter": "python",
   "pygments_lexer": "ipython3",
   "version": "3.9.7"
  }
 },
 "nbformat": 4,
 "nbformat_minor": 4
}
